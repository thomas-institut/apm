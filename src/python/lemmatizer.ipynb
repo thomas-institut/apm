{
 "cells": [
  {
   "cell_type": "markdown",
   "metadata": {
    "pycharm": {
     "name": "#%% md\n"
    }
   },
   "source": [
    "# Lemmatization in Latin, Arabic and Hebrew"
   ]
  },
  {
   "cell_type": "markdown",
   "source": [
    "### Import Modules"
   ],
   "metadata": {
    "collapsed": false,
    "pycharm": {
     "name": "#%% md\n"
    }
   }
  },
  {
   "cell_type": "code",
   "execution_count": 1,
   "metadata": {
    "pycharm": {
     "name": "#%%\n"
    }
   },
   "outputs": [],
   "source": [
    "from pyspark.ml import Pipeline\n",
    "import sparknlp\n",
    "from sparknlp.annotator import *\n",
    "from sparknlp.base import DocumentAssembler, LightPipeline"
   ]
  },
  {
   "cell_type": "markdown",
   "metadata": {
    "pycharm": {
     "name": "#%% md\n"
    }
   },
   "source": [
    "### Run Spark NLP"
   ]
  },
  {
   "cell_type": "code",
   "execution_count": 2,
   "metadata": {
    "pycharm": {
     "name": "#%%\n"
    }
   },
   "outputs": [
    {
     "name": "stdout",
     "output_type": "stream",
     "text": [
      "22/10/07 11:10:40 WARN Utils: Your hostname, lukas-HP-EliteBook-820-G1 resolves to a loopback address: 127.0.1.1; using 192.168.178.55 instead (on interface wlo1)\n",
      "22/10/07 11:10:40 WARN Utils: Set SPARK_LOCAL_IP if you need to bind to another address\n",
      ":: loading settings :: url = jar:file:/opt/spark/jars/ivy-2.5.0.jar!/org/apache/ivy/core/settings/ivysettings.xml\n"
     ]
    },
    {
     "name": "stderr",
     "output_type": "stream",
     "text": [
      "Ivy Default Cache set to: /home/lukas/.ivy2/cache\n",
      "The jars for the packages stored in: /home/lukas/.ivy2/jars\n",
      "com.johnsnowlabs.nlp#spark-nlp_2.12 added as a dependency\n",
      ":: resolving dependencies :: org.apache.spark#spark-submit-parent-b6520d0f-39a2-4563-9488-fc8e8660714b;1.0\n",
      "\tconfs: [default]\n",
      "\tfound com.johnsnowlabs.nlp#spark-nlp_2.12;4.0.2 in central\n",
      "\tfound com.typesafe#config;1.4.2 in central\n",
      "\tfound org.rocksdb#rocksdbjni;6.29.5 in central\n",
      "\tfound com.amazonaws#aws-java-sdk-bundle;1.11.828 in central\n",
      "\tfound com.github.universal-automata#liblevenshtein;3.0.0 in central\n",
      "\tfound com.google.code.findbugs#annotations;3.0.1 in central\n",
      "\tfound net.jcip#jcip-annotations;1.0 in central\n",
      "\tfound com.google.code.findbugs#jsr305;3.0.1 in central\n",
      "\tfound com.google.protobuf#protobuf-java-util;3.0.0-beta-3 in central\n",
      "\tfound com.google.protobuf#protobuf-java;3.0.0-beta-3 in central\n",
      "\tfound com.google.code.gson#gson;2.3 in central\n",
      "\tfound it.unimi.dsi#fastutil;7.0.12 in central\n",
      "\tfound org.projectlombok#lombok;1.16.8 in central\n",
      "\tfound org.slf4j#slf4j-api;1.7.21 in central\n",
      "\tfound com.navigamez#greex;1.0 in central\n",
      "\tfound dk.brics.automaton#automaton;1.11-8 in central\n",
      "\tfound com.johnsnowlabs.nlp#tensorflow-cpu_2.12;0.4.2 in central\n",
      ":: resolution report :: resolve 1591ms :: artifacts dl 138ms\n",
      "\t:: modules in use:\n",
      "\tcom.amazonaws#aws-java-sdk-bundle;1.11.828 from central in [default]\n",
      "\tcom.github.universal-automata#liblevenshtein;3.0.0 from central in [default]\n",
      "\tcom.google.code.findbugs#annotations;3.0.1 from central in [default]\n",
      "\tcom.google.code.findbugs#jsr305;3.0.1 from central in [default]\n",
      "\tcom.google.code.gson#gson;2.3 from central in [default]\n",
      "\tcom.google.protobuf#protobuf-java;3.0.0-beta-3 from central in [default]\n",
      "\tcom.google.protobuf#protobuf-java-util;3.0.0-beta-3 from central in [default]\n",
      "\tcom.johnsnowlabs.nlp#spark-nlp_2.12;4.0.2 from central in [default]\n",
      "\tcom.johnsnowlabs.nlp#tensorflow-cpu_2.12;0.4.2 from central in [default]\n",
      "\tcom.navigamez#greex;1.0 from central in [default]\n",
      "\tcom.typesafe#config;1.4.2 from central in [default]\n",
      "\tdk.brics.automaton#automaton;1.11-8 from central in [default]\n",
      "\tit.unimi.dsi#fastutil;7.0.12 from central in [default]\n",
      "\tnet.jcip#jcip-annotations;1.0 from central in [default]\n",
      "\torg.projectlombok#lombok;1.16.8 from central in [default]\n",
      "\torg.rocksdb#rocksdbjni;6.29.5 from central in [default]\n",
      "\torg.slf4j#slf4j-api;1.7.21 from central in [default]\n",
      "\t---------------------------------------------------------------------\n",
      "\t|                  |            modules            ||   artifacts   |\n",
      "\t|       conf       | number| search|dwnlded|evicted|| number|dwnlded|\n",
      "\t---------------------------------------------------------------------\n",
      "\t|      default     |   17  |   0   |   0   |   0   ||   17  |   0   |\n",
      "\t---------------------------------------------------------------------\n",
      ":: retrieving :: org.apache.spark#spark-submit-parent-b6520d0f-39a2-4563-9488-fc8e8660714b\n",
      "\tconfs: [default]\n",
      "\t0 artifacts copied, 17 already retrieved (0kB/18ms)\n"
     ]
    },
    {
     "name": "stdout",
     "output_type": "stream",
     "text": [
      "22/10/07 11:10:43 WARN NativeCodeLoader: Unable to load native-hadoop library for your platform... using builtin-java classes where applicable\n"
     ]
    },
    {
     "name": "stderr",
     "output_type": "stream",
     "text": [
      "Setting default log level to \"WARN\".\n",
      "To adjust logging level use sc.setLogLevel(newLevel). For SparkR, use setLogLevel(newLevel).\n"
     ]
    },
    {
     "name": "stdout",
     "output_type": "stream",
     "text": [
      "Spark NLP version:  4.0.2\n",
      "Apache Spark version:  3.3.0\n"
     ]
    }
   ],
   "source": [
    "spark = sparknlp.start()\n",
    "\n",
    "print(\"Spark NLP version: \", sparknlp.version())\n",
    "print(\"Apache Spark version: \", spark.version)"
   ]
  },
  {
   "cell_type": "markdown",
   "source": [
    "### Create Pipelines"
   ],
   "metadata": {
    "collapsed": false,
    "pycharm": {
     "name": "#%% md\n"
    }
   }
  },
  {
   "cell_type": "code",
   "execution_count": 3,
   "metadata": {
    "pycharm": {
     "name": "#%%\n"
    }
   },
   "outputs": [
    {
     "name": "stdout",
     "output_type": "stream",
     "text": [
      "lemma download started this may take some time.\n",
      "Approximate size to download 169 KB\n",
      "[ | ]lemma download started this may take some time.\n",
      "Approximate size to download 169 KB\n",
      "[ / ]Download done! Loading the resource.\n",
      "[ — ]"
     ]
    },
    {
     "name": "stderr",
     "output_type": "stream",
     "text": [
      "                                                                                \r"
     ]
    },
    {
     "name": "stdout",
     "output_type": "stream",
     "text": [
      "[OK!]\n"
     ]
    }
   ],
   "source": [
    "document_assembler = DocumentAssembler()\\\n",
    "    .setInputCol(\"text\")\\\n",
    "    .setOutputCol(\"document\")\n",
    "\n",
    "tokenizer = Tokenizer() \\\n",
    "    .setInputCols([\"document\"]) \\\n",
    "    .setOutputCol(\"token\")\n",
    "\n",
    "#lemmatizer_la = LemmatizerModel.pretrained(\"lemma\", \"la\") \\\n",
    "#        .setInputCols([\"token\"]) \\\n",
    "#        .setOutputCol(\"lemma\")\n",
    "\n",
    "#lemmatizer_ar = LemmatizerModel.pretrained(\"lemma\", \"ar\") \\\n",
    "#        .setInputCols([\"token\"]) \\\n",
    "#        .setOutputCol(\"lemma\")\n",
    "\n",
    "lemmatizer_he = LemmatizerModel.pretrained(\"lemma\", \"he\") \\\n",
    "        .setInputCols([\"token\"]) \\\n",
    "        .setOutputCol(\"lemma\")\n",
    "\n",
    "#pipeline_la = Pipeline(stages=[document_assembler, tokenizer, lemmatizer_la])\n",
    "#pipeline_ar = Pipeline(stages=[document_assembler, tokenizer, lemmatizer_ar])\n",
    "pipeline_he = Pipeline(stages=[document_assembler, tokenizer, lemmatizer_he])"
   ]
  },
  {
   "cell_type": "markdown",
   "source": [
    "### Get Data"
   ],
   "metadata": {
    "collapsed": false,
    "pycharm": {
     "name": "#%% md\n"
    }
   }
  },
  {
   "cell_type": "code",
   "execution_count": 4,
   "outputs": [],
   "source": [
    "#text_la = [\"Architecti est scientia pluribus disciplinis et variis eruditionibus ornata, quae ab ceteris artibus perficiuntur. Opera ea nascitur et fabrica et ratiocinatione.\"]\n",
    "\n",
    "#text_ar = [\"اختل بصره تخاييل واشياء ليست على كنهها. وقد حكى ارسطو ان رجلا اصابه ضعف بصر فكان يرى بين يديه شبحه في الهواء دائما لان الهواء كان بالاضافة الى بصره يمنزلة المرآة الى الابصار السليمة. واما السبب في لقاء البصر\"]\n",
    "\n",
    "text_he = [\"האריגה לעכביש. ובתים המשושי׳ לדבורים אלא שההבדל ביניהם הוא שהם מגיעות באדם במחשבה וההוצאה מהלב וזהו שנשלם בו בצלאל באמרו ולחשוב מחשבות ויוני מגיעות מהטבע ולכן לא ימצאו פעולתם במיני׳ שונים אבל ישיג \"]"
   ],
   "metadata": {
    "collapsed": false,
    "pycharm": {
     "name": "#%%\n"
    }
   }
  },
  {
   "cell_type": "markdown",
   "metadata": {
    "pycharm": {
     "name": "#%% md\n"
    }
   },
   "source": [
    "### Transform Pipelines to LightPipelines"
   ]
  },
  {
   "cell_type": "code",
   "execution_count": 5,
   "metadata": {
    "pycharm": {
     "name": "#%%\n"
    }
   },
   "outputs": [],
   "source": [
    "#data_la = spark.createDataFrame([text_la]).toDF(\"text\")\n",
    "#light_pipeline_la = LightPipeline(pipeline_la.fit(data_la))\n",
    "\n",
    "#data_ar = spark.createDataFrame([text_ar]).toDF(\"text\")\n",
    "#light_pipeline_ar = LightPipeline(pipeline_ar.fit(data_ar))\n",
    "\n",
    "data_he = spark.createDataFrame([text_he]).toDF(\"text\")\n",
    "light_pipeline_he = LightPipeline(pipeline_he.fit(data_he))"
   ]
  },
  {
   "cell_type": "markdown",
   "source": [
    "### Annotate Texts"
   ],
   "metadata": {
    "collapsed": false,
    "pycharm": {
     "name": "#%% md\n"
    }
   }
  },
  {
   "cell_type": "code",
   "execution_count": 6,
   "outputs": [],
   "source": [
    "#result_la = light_pipeline_la.annotate(text_la)\n",
    "#result_ar = light_pipeline_ar.annotate(text_ar)\n",
    "result_he = light_pipeline_he.annotate(text_he)"
   ],
   "metadata": {
    "collapsed": false,
    "pycharm": {
     "name": "#%%\n"
    }
   }
  },
  {
   "cell_type": "markdown",
   "source": [
    "### Show Lemmas"
   ],
   "metadata": {
    "collapsed": false,
    "pycharm": {
     "name": "#%% md\n"
    }
   }
  },
  {
   "cell_type": "markdown",
   "source": [
    "##### Latin Lemmas"
   ],
   "metadata": {
    "collapsed": false,
    "pycharm": {
     "name": "#%% md\n"
    }
   }
  },
  {
   "cell_type": "code",
   "execution_count": 7,
   "outputs": [],
   "source": [
    "#[content['lemma'] for content in result_la]"
   ],
   "metadata": {
    "collapsed": false,
    "pycharm": {
     "name": "#%%\n"
    }
   }
  },
  {
   "cell_type": "code",
   "execution_count": 8,
   "outputs": [],
   "source": [
    "#[content['token'] for content in result_la]"
   ],
   "metadata": {
    "collapsed": false,
    "pycharm": {
     "name": "#%%\n"
    }
   }
  },
  {
   "cell_type": "markdown",
   "source": [
    "##### Arabic Lemmas"
   ],
   "metadata": {
    "collapsed": false,
    "pycharm": {
     "name": "#%% md\n"
    }
   }
  },
  {
   "cell_type": "code",
   "execution_count": 9,
   "outputs": [],
   "source": [
    "#[content['lemma'] for content in result_ar]"
   ],
   "metadata": {
    "collapsed": false,
    "pycharm": {
     "name": "#%%\n"
    }
   }
  },
  {
   "cell_type": "markdown",
   "source": [
    "##### Hebrew Lemmas"
   ],
   "metadata": {
    "collapsed": false,
    "pycharm": {
     "name": "#%% md\n"
    }
   }
  },
  {
   "cell_type": "code",
   "execution_count": 10,
   "outputs": [
    {
     "data": {
      "text/plain": "[['האריגה',\n  'לעכביש',\n  '.',\n  'ובתים',\n  'המשושי׳',\n  'לדבורים',\n  'אלא',\n  'שההבדל',\n  'ביניהם',\n  'הוא',\n  'שהם',\n  'הגיע',\n  'באדם',\n  'במחשבה',\n  'וההוצאה',\n  'מהלב',\n  'וזהו',\n  'שנשלם',\n  'בו',\n  'בצלאל',\n  'באמרו',\n  'ולחשוב',\n  'מחשבה',\n  'ויוני',\n  'הגיע',\n  'מהטבע',\n  'ולכן',\n  'לא',\n  'מצא',\n  'פעולתם',\n  'במיני׳',\n  'שונה',\n  'אבל',\n  'ישיג']]"
     },
     "execution_count": 10,
     "metadata": {},
     "output_type": "execute_result"
    }
   ],
   "source": [
    "[content['lemma'] for content in result_he]"
   ],
   "metadata": {
    "collapsed": false,
    "pycharm": {
     "name": "#%%\n"
    }
   }
  },
  {
   "cell_type": "code",
   "execution_count": 12,
   "outputs": [
    {
     "data": {
      "text/plain": "[['האריגה',\n  'לעכביש',\n  '.',\n  'ובתים',\n  'המשושי׳',\n  'לדבורים',\n  'אלא',\n  'שההבדל',\n  'ביניהם',\n  'הוא',\n  'שהם',\n  'מגיעות',\n  'באדם',\n  'במחשבה',\n  'וההוצאה',\n  'מהלב',\n  'וזהו',\n  'שנשלם',\n  'בו',\n  'בצלאל',\n  'באמרו',\n  'ולחשוב',\n  'מחשבות',\n  'ויוני',\n  'מגיעות',\n  'מהטבע',\n  'ולכן',\n  'לא',\n  'ימצאו',\n  'פעולתם',\n  'במיני׳',\n  'שונים',\n  'אבל',\n  'ישיג']]"
     },
     "execution_count": 12,
     "metadata": {},
     "output_type": "execute_result"
    }
   ],
   "source": [
    "[content['token'] for content in result_he]"
   ],
   "metadata": {
    "collapsed": false,
    "pycharm": {
     "name": "#%%\n"
    }
   }
  },
  {
   "cell_type": "code",
   "execution_count": null,
   "outputs": [],
   "source": [],
   "metadata": {
    "collapsed": false,
    "pycharm": {
     "name": "#%%\n"
    }
   }
  }
 ],
 "metadata": {
  "kernelspec": {
   "display_name": "Python 3",
   "language": "python",
   "name": "python3"
  },
  "language_info": {
   "codemirror_mode": {
    "name": "ipython",
    "version": 3
   },
   "file_extension": ".py",
   "mimetype": "text/x-python",
   "name": "python",
   "nbconvert_exporter": "python",
   "pygments_lexer": "ipython3",
   "version": "3.7.4"
  }
 },
 "nbformat": 4,
 "nbformat_minor": 4
}